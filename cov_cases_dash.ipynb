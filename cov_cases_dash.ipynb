{
 "cells": [
  {
   "cell_type": "code",
   "execution_count": 10,
   "id": "9a6fa471-3ad5-4a2c-a5ef-028381493246",
   "metadata": {},
   "outputs": [],
   "source": [
    "import pandas as pd\n",
    "import numpy as np\n",
    "import panel as pn\n",
    "pn.extension('tabulator')\n",
    "\n",
    "import hvplot.pandas"
   ]
  },
  {
   "cell_type": "code",
   "execution_count": 11,
   "id": "1ca11a0d-b011-425a-8e4b-0f540225085a",
   "metadata": {},
   "outputs": [],
   "source": [
    "if 'data' not in pn.state.cache.keys():\n",
    "    df = pd.read_csv('https://raw.githubusercontent.com/WillBallentine/cov_dashboard/main/United_States_COVID-19_Cases_and_Deaths_by_State_over_Time_-_ARCHIVED.csv')\n",
    "    pn.state.cache['data'] = df.copy()\n",
    "    \n",
    "else:\n",
    "    df = pn.state.cache['data']"
   ]
  },
  {
   "cell_type": "code",
   "execution_count": 13,
   "id": "459dce8e-b0ca-40ff-881c-d3efdd049963",
   "metadata": {},
   "outputs": [],
   "source": [
    "#Variable set for radial buttons\n",
    "df['submission_date'] = pd.to_datetime(df['submission_date'])\n",
    "df['year'] = pd.DatetimeIndex(df['submission_date']).year\n",
    "df['month'] = pd.DatetimeIndex(df['submission_date']).month\n",
    "\n",
    "months = set(pd.DatetimeIndex(df['submission_date']).month)\n",
    "years = set(pd.DatetimeIndex(df['submission_date']).year)\n",
    "year = []\n",
    "for i in years:\n",
    "    year.append(i)\n",
    "    \n",
    "month = []\n",
    "for i in months:\n",
    "    month.append(i)\n"
   ]
  },
  {
   "cell_type": "code",
   "execution_count": null,
   "id": "ed24bac9-775b-4147-a8e6-da41a44fec3f",
   "metadata": {},
   "outputs": [],
   "source": [
    "df = df.fillna(0)"
   ]
  },
  {
   "cell_type": "code",
   "execution_count": null,
   "id": "4660125a-6a3a-4158-8cc8-53f8ffe96475",
   "metadata": {},
   "outputs": [],
   "source": [
    "idf = df.interactive()"
   ]
  },
  {
   "cell_type": "code",
   "execution_count": null,
   "id": "480073f4-cdad-4ed7-bbac-04eb011273ef",
   "metadata": {},
   "outputs": [],
   "source": [
    "#Define panel widgets\n",
    "state_select = pn.widgets.Select(name=\"State Select\", options=['AL','AK','AZ','AR','CA','CO','CT','DE','FL','GA','HI','ID','IL','IN','IA','KS','KY','LA','ME','MD','MA','MI','MN','MS','MO','MT','NE','NV','NH','NJ','NM','NY','NC','ND','OH','OK','OR','PA','RI','SC','SD','TN','TX','UT','VT','VA','WA','WV','WI','WY',], inline=False)\n",
    "state_select"
   ]
  },
  {
   "cell_type": "code",
   "execution_count": null,
   "id": "5ce0aacf-e431-41ee-a89e-f146aea4035a",
   "metadata": {},
   "outputs": [],
   "source": [
    "#define radial buttons for charts\n",
    "month_case_select = pn.widgets.RadioButtonGroup(\n",
    "    name='Month', \n",
    "    options=month,\n",
    "    button_type='success'\n",
    ")\n",
    "\n",
    "year_case_select = pn.widgets.RadioButtonGroup(\n",
    "    name='Year',\n",
    "    options=year,\n",
    "    button_type='success'\n",
    ")\n",
    "\n",
    "month_death_select = pn.widgets.RadioButtonGroup(\n",
    "    name='Month', \n",
    "    options=month,\n",
    "    button_type='success'\n",
    ")\n",
    "\n",
    "year_death_select = pn.widgets.RadioButtonGroup(\n",
    "    name='Year',\n",
    "    options=year,\n",
    "    button_type='success'\n",
    ")"
   ]
  },
  {
   "cell_type": "code",
   "execution_count": null,
   "id": "9ba8de02-4293-4ef9-b4fd-093f50159c92",
   "metadata": {},
   "outputs": [],
   "source": [
    "tot_case_pipeline = (idf[((idf.state) == state_select) & ((idf.month) == month_case_select) & ((idf.year) == year_case_select)])"
   ]
  },
  {
   "cell_type": "code",
   "execution_count": null,
   "id": "ae3f9888-83a5-4d14-bcf6-8846cc9c212f",
   "metadata": {},
   "outputs": [],
   "source": [
    "tot_deaths_pipeline = (idf[((idf.state) == state_select) & ((idf.month) == month_death_select) & ((idf.year) == year_death_select)])"
   ]
  },
  {
   "cell_type": "code",
   "execution_count": null,
   "id": "8de727c1-9ba0-4bfa-82ea-c79bb3283df2",
   "metadata": {},
   "outputs": [],
   "source": [
    "tot_case_pipeline"
   ]
  },
  {
   "cell_type": "code",
   "execution_count": null,
   "id": "b10d52de-7b1f-4484-8134-9bbf1f6767bf",
   "metadata": {},
   "outputs": [],
   "source": [
    "tot_deaths_pipeline"
   ]
  },
  {
   "cell_type": "code",
   "execution_count": null,
   "id": "4033b856-4efa-426a-8a1e-44423a2ccc7c",
   "metadata": {},
   "outputs": [],
   "source": [
    "tot_plot = tot_case_pipeline.hvplot(kind='scatter', x='submission_date', by='state', y='tot_cases', title=\"Total Cases by state\", color='red', height= 500, width=500, size=60)\n",
    "tot_plot"
   ]
  },
  {
   "cell_type": "code",
   "execution_count": null,
   "id": "7f8a2e24-7fb6-4f2a-881c-f197f9e9c10c",
   "metadata": {},
   "outputs": [],
   "source": [
    "deaths_scatterplot = tot_deaths_pipeline.hvplot(x='submission_date', y='tot_death', size=60, kind=\"scatter\", height = 500, width=500, title=\"Total Deaths by State\")\n",
    "deaths_scatterplot"
   ]
  },
  {
   "cell_type": "code",
   "execution_count": null,
   "id": "87f195f8-a517-4b30-9f5d-8d91ca4ce84a",
   "metadata": {},
   "outputs": [],
   "source": [
    "avg_death_pipeline = (idf[(idf.state) == state_select])"
   ]
  },
  {
   "cell_type": "code",
   "execution_count": null,
   "id": "64f235d2-ce61-44b7-b235-0f9a5ced1dce",
   "metadata": {},
   "outputs": [],
   "source": [
    "#Layout using Template\n",
    "template = pn.template.FastListTemplate(\n",
    "    title='Covid Cases by State', \n",
    "    sidebar=[pn.pane.Markdown(\"# Covid-19 Cases by State Reports\"), \n",
    "             pn.pane.Markdown(\"#### Covid, while largely under conrol, had a massive impact on our States over the last three years.\"), \n",
    "             pn.pane.PNG('covid.png', width=200, height=100),\n",
    "             pn.pane.Markdown(\"## Select State\"),   \n",
    "             state_select],\n",
    "    main=[pn.Row(pn.Column(month_case_select, year_case_select,\n",
    "                           tot_plot.panel(width=900), margin=(0,25)),\n",
    "                 (pn.Column(month_death_select, year_death_select,\n",
    "                 deaths_scatterplot.panel(width=900), margin=(0,25)))), \n",
    "],\n",
    "    accent_base_color=\"#88d8b0\",\n",
    "    header_background=\"#88d8b0\",\n",
    ")\n",
    "# template.show()\n",
    "template.servable();"
   ]
  },
  {
   "cell_type": "code",
   "execution_count": null,
   "id": "18459771-3813-43e5-b881-01fdbf6509d2",
   "metadata": {},
   "outputs": [],
   "source": []
  }
 ],
 "metadata": {
  "kernelspec": {
   "display_name": "Python 3 (ipykernel)",
   "language": "python",
   "name": "python3"
  },
  "language_info": {
   "codemirror_mode": {
    "name": "ipython",
    "version": 3
   },
   "file_extension": ".py",
   "mimetype": "text/x-python",
   "name": "python",
   "nbconvert_exporter": "python",
   "pygments_lexer": "ipython3",
   "version": "3.10.7"
  }
 },
 "nbformat": 4,
 "nbformat_minor": 5
}
